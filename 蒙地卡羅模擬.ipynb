{
 "cells": [
  {
   "cell_type": "code",
   "execution_count": 1,
   "metadata": {},
   "outputs": [],
   "source": [
    "import numpy as np\n",
    "import pandas as pd\n",
    "import matplotlib.pyplot as plt"
   ]
  },
  {
   "cell_type": "markdown",
   "metadata": {},
   "source": [
    "# 蒙地卡羅模擬範例\n",
    "\n",
    "若等候公車到達所花費的時間服從指數分配，平均等候時間為5分鐘，使用蒙地卡羅法模擬生成10000次等候公車的時間。"
   ]
  },
  {
   "cell_type": "markdown",
   "metadata": {},
   "source": [
    "$x\\sim exp(\\lambda)$\n",
    "\n",
    "指數分配(pdf) \n",
    "\n",
    "$ f(x) = \\lambda e^{\\lambda x}$\n",
    "\n",
    "指數分配(CDF)\n",
    "\n",
    "$ F(x) = 1 - e^{\\lambda x}$\n",
    "\n",
    "反函數轉換\n",
    "\n",
    "$ F^{-1}(x) = \\frac{ln(1-y)}{-\\lambda}$"
   ]
  },
  {
   "cell_type": "code",
   "execution_count": 32,
   "metadata": {},
   "outputs": [
    {
     "data": {
      "image/png": "[encoded data removed]",
      "text/plain": [
       "<matplotlib.figure.Figure at 0x178bb6d7550>"
      ]
     },
     "metadata": {},
     "output_type": "display_data"
    }
   ],
   "source": [
    "# 指數分配\n",
    "func = lambda x : (0.2)*np.exp(-0.2*x)\n",
    "# 模擬資料頻率\n",
    "x = np.arange(0, 30, 0.01)\n",
    "plt.plot(x, func(x))\n",
    "plt.show()"
   ]
  },
  {
   "cell_type": "code",
   "execution_count": 47,
   "metadata": {},
   "outputs": [
    {
     "data": {
      "text/plain": [
       "array([16, 97,  1, ..., 81, 93, 41])"
      ]
     },
     "execution_count": 47,
     "metadata": {},
     "output_type": "execute_result"
    }
   ],
   "source": [
    "# 隨機亂數生成\n",
    "y = np.random.random(10000); y\n",
    "y1 = np.random.randint(1, 100, 10000); y1"
   ]
  },
  {
   "cell_type": "code",
   "execution_count": 48,
   "metadata": {},
   "outputs": [
    {
     "data": {
      "image/png": "[encoded data removed]",
      "text/plain": [
       "<matplotlib.figure.Figure at 0x178bc1201d0>"
      ]
     },
     "metadata": {},
     "output_type": "display_data"
    }
   ],
   "source": [
    "# 隨機亂數 y 服從均勻性 (0-1切十等分，計算每等分出現的次數)\n",
    "plt.hist(y1, bins = 10)\n",
    "plt.show()"
   ]
  },
  {
   "cell_type": "code",
   "execution_count": 38,
   "metadata": {},
   "outputs": [
    {
     "name": "stdout",
     "output_type": "stream",
     "text": [
      "期望值： 0.5 0.08333333333333333\n",
      "模擬： 0.5001180485133787 0.0829420329940908\n"
     ]
    }
   ],
   "source": [
    "print(\"期望值：\", 0.5, 1/12)\n",
    "print(\"模擬：\", np.mean(y), np.var(y))"
   ]
  },
  {
   "cell_type": "code",
   "execution_count": null,
   "metadata": {},
   "outputs": [],
   "source": [
    "# 反函數求x\n",
    "inv_func = lambda x : -(np.log(1-x))/0.2"
   ]
  },
  {
   "cell_type": "code",
   "execution_count": 16,
   "metadata": {},
   "outputs": [
    {
     "data": {
      "text/plain": [
       "array([0.23413041, 0.42524214, 0.45337879, ..., 0.29247947, 0.02575132,\n",
       "       0.36465514])"
      ]
     },
     "execution_count": 16,
     "metadata": {},
     "output_type": "execute_result"
    }
   ],
   "source": [
    "y"
   ]
  },
  {
   "cell_type": "code",
   "execution_count": 11,
   "metadata": {},
   "outputs": [
    {
     "data": {
      "text/plain": [
       "array([ 5.3908101 ,  1.59045945,  0.84490827, ...,  5.98120762,\n",
       "       12.1551378 , 10.08152159])"
      ]
     },
     "execution_count": 11,
     "metadata": {},
     "output_type": "execute_result"
    }
   ],
   "source": [
    "# 蒙地卡羅反函數\n",
    "x = inv_func(y)\n",
    "x"
   ]
  },
  {
   "cell_type": "code",
   "execution_count": 12,
   "metadata": {},
   "outputs": [
    {
     "data": {
      "image/png": "[encoded data removed]",
      "text/plain": [
       "<matplotlib.figure.Figure at 0x178b9656630>"
      ]
     },
     "metadata": {},
     "output_type": "display_data"
    }
   ],
   "source": [
    "# 模擬資料頻率\n",
    "plt.hist(x, bins = 100)\n",
    "plt.show()"
   ]
  },
  {
   "cell_type": "code",
   "execution_count": 14,
   "metadata": {},
   "outputs": [
    {
     "data": {
      "text/plain": [
       "(4.952492296457617, 24.035083662281174)"
      ]
     },
     "execution_count": 14,
     "metadata": {},
     "output_type": "execute_result"
    }
   ],
   "source": [
    "np.mean(x), np.var(x)"
   ]
  }
 ],
 "metadata": {
  "kernelspec": {
   "display_name": "Python 3",
   "language": "python",
   "name": "python3"
  },
  "language_info": {
   "codemirror_mode": {
    "name": "ipython",
    "version": 3
   },
   "file_extension": ".py",
   "mimetype": "text/x-python",
   "name": "python",
   "nbconvert_exporter": "python",
   "pygments_lexer": "ipython3",
   "version": "3.6.4"
  }
 },
 "nbformat": 4,
 "nbformat_minor": 2
}
